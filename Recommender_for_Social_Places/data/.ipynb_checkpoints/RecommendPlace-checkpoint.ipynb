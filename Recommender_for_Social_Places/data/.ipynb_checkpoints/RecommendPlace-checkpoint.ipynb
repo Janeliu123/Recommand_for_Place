{
 "cells": [
  {
   "cell_type": "code",
   "execution_count": 1,
   "metadata": {},
   "outputs": [],
   "source": [
    "import os\n",
    "import csv\n",
    "from surprise import BaselineOnly\n",
    "from surprise import Dataset\n",
    "from surprise import Reader\n",
    "from surprise import SVD\n",
    "from surprise import accuracy\n",
    "from surprise.model_selection import cross_validate\n",
    "from surprise.model_selection import train_test_split\n",
    "from collections import defaultdict"
   ]
  },
  {
   "cell_type": "code",
   "execution_count": 2,
   "metadata": {},
   "outputs": [
    {
     "name": "stdout",
     "output_type": "stream",
     "text": [
      "/Users/janeliu/eclipse-workspace/apache-tomcat-7.0.34/webapps/Recommender_for_Social_Places/data\n",
      "/usr/local/mongodb/bin/\n",
      "./mongoexport --db=PlaceReviews --collection=myReviews --type=csv --fields=userName,businessId,reviewrating > \"/Users/janeliu/eclipse-workspace/apache-tomcat-7.0.34/webapps/Recommender_for_Social_Places/data/mongodata_train.csv\"\n"
     ]
    },
    {
     "data": {
      "text/plain": [
       "512"
      ]
     },
     "execution_count": 2,
     "metadata": {},
     "output_type": "execute_result"
    }
   ],
   "source": [
    "# pr_file_path=\"/Users/janeliu/Desktop/2019fall/csp584/final/Recommander-for-Social-Places/web\"\n",
    "pr_file_path=os.getcwd()\n",
    "print(pr_file_path)\n",
    "path_upper = os.path.abspath(os.path.dirname(os.getcwd()))\n",
    "#load mongodb's path\n",
    "f = open(os.path.join(path_upper,\"config.txt\"))\n",
    "for line in f:\n",
    "    info = line.split(\"=\")\n",
    "    if info[0] == \"MONGODB_BIN\":\n",
    "        mongo_db = info[1].replace(\"\\n\",\"\")\n",
    "        print(mongo_db)\n",
    "        os.chdir(mongo_db)\n",
    "os.system(r'./mongoexport --db=PlaceReviews --collection=myReviews --type=csv --fields=userName,businessId,reviewrating > '+os.path.join(pr_file_path,'mongodata_train.csv'))"
   ]
  },
  {
   "cell_type": "code",
   "execution_count": 3,
   "metadata": {},
   "outputs": [],
   "source": [
    "with open(os.path.join(pr_file_path,\"mongodata_train.csv\"), \"r\") as f:\n",
    "    reader = csv.DictReader(f, delimiter=',')\n",
    "    with open(os.path.join(pr_file_path,\"mongodata_test.csv\"), \"w\",newline='')as f_out:\n",
    "        writer = csv.DictWriter(f_out, fieldnames=reader.fieldnames, delimiter=\",\")\n",
    "        for row in reader:\n",
    "            writer.writerow(row)\n",
    "file_path = os.path.expanduser(os.path.join(pr_file_path,'mongodata_test.csv'))"
   ]
  },
  {
   "cell_type": "code",
   "execution_count": 4,
   "metadata": {},
   "outputs": [
    {
     "name": "stdout",
     "output_type": "stream",
     "text": [
      "user1 ['qD3-5yqSyPiz-VpJtPsnkg', 'xAZx3d8rEBzKVtOI5Vf5xA', 'U5tVK8ChZPP_72ldZPmqAA']\n",
      "user2 ['-l_EorQgXO9VImb5AvV4nQ', 'yDCyAklnWxnzV675_iweVQ', 'lYKn_TKwzudoIYplL2tGDg']\n",
      "user3 ['-l_EorQgXO9VImb5AvV4nQ', 'TFmh4YqjovxtxQ8K2k3ing', 'yDCyAklnWxnzV675_iweVQ']\n",
      "user4 ['xAZx3d8rEBzKVtOI5Vf5xA', 'yDCyAklnWxnzV675_iweVQ', 'DXwSYgiXqIVNdO9dazel6w']\n",
      "user5 ['-l_EorQgXO9VImb5AvV4nQ', 'qD3-5yqSyPiz-VpJtPsnkg', 'DXwSYgiXqIVNdO9dazel6w']\n",
      "user6 ['qD3-5yqSyPiz-VpJtPsnkg', '-l_EorQgXO9VImb5AvV4nQ', 't_0jtlPiS9YK86LjhTTleg']\n",
      "user7 ['yDCyAklnWxnzV675_iweVQ', 'DXwSYgiXqIVNdO9dazel6w', 'zIXZtgiir9CVF-iZeeAvaQ']\n",
      "user8 ['yDCyAklnWxnzV675_iweVQ', 'DXwSYgiXqIVNdO9dazel6w', 'o0DaPvRb4IWH7hUWVCnoGw']\n",
      "user9 ['yDCyAklnWxnzV675_iweVQ', 'qD3-5yqSyPiz-VpJtPsnkg', 'DXwSYgiXqIVNdO9dazel6w']\n"
     ]
    }
   ],
   "source": [
    "reader = Reader(line_format='user item rating', sep=',')\n",
    "\n",
    "#data = Dataset.load_from_file(file_path, reader=reader)\n",
    "\n",
    "def get_top_n(predictions, n=10):\n",
    "    '''Return the top-N recommendation for each user from a set of predictions.\n",
    "\n",
    "    Args:\n",
    "        predictions(list of Prediction objects): The list of predictions, as\n",
    "            returned by the test method of an algorithm.\n",
    "        n(int): The number of recommendation to output for each user. Default\n",
    "            is 10.\n",
    "\n",
    "    Returns:\n",
    "    A dict where keys are user (raw) ids and values are lists of tuples:\n",
    "        [(raw item id, rating estimation), ...] of size n.\n",
    "    '''\n",
    "\n",
    "    # First map the predictions to each user.\n",
    "    top_n = defaultdict(list)\n",
    "    for uid, iid, true_r, est, _ in predictions:\n",
    "        top_n[uid].append((iid, est))\n",
    "\n",
    "    # Then sort the predictions for each user and retrieve the k highest ones.\n",
    "    for uid, user_ratings in top_n.items():\n",
    "        user_ratings.sort(key=lambda x: x[1], reverse=True)\n",
    "        top_n[uid] = user_ratings[:n]\n",
    "\n",
    "    return top_n\n",
    "\n",
    "# First train an SVD algorithm on the movielens dataset.\n",
    "data = Dataset.load_from_file(file_path, reader=reader)\n",
    "trainset = data.build_full_trainset()\n",
    "algo = SVD()\n",
    "algo.fit(trainset)\n",
    "\n",
    "# Than predict ratings for all pairs (u, i) that are NOT in the training set.\n",
    "testset = trainset.build_anti_testset()\n",
    "predictions = algo.test(testset)\n",
    "\n",
    "top_n = get_top_n(predictions, n=3)\n",
    "\n",
    "# Print the recommended items for each user\n",
    "for uid, user_ratings in top_n.items():\n",
    "    print(uid, [iid for (iid, _) in user_ratings])\n",
    "    \n",
    "out = open(os.path.join(pr_file_path,'output.csv'), 'w',newline='')\n",
    "output=csv.writer(out)\n",
    "\n",
    "for uid, user_ratings in top_n.items():\n",
    "    output.writerow([uid, [iid for (iid, _) in user_ratings]])\n",
    "    \n",
    "out.close()\n"
   ]
  },
  {
   "cell_type": "code",
   "execution_count": null,
   "metadata": {},
   "outputs": [],
   "source": []
  }
 ],
 "metadata": {
  "kernelspec": {
   "display_name": "Python 3",
   "language": "python",
   "name": "python3"
  },
  "language_info": {
   "codemirror_mode": {
    "name": "ipython",
    "version": 3
   },
   "file_extension": ".py",
   "mimetype": "text/x-python",
   "name": "python",
   "nbconvert_exporter": "python",
   "pygments_lexer": "ipython3",
   "version": "3.7.3"
  }
 },
 "nbformat": 4,
 "nbformat_minor": 2
}
